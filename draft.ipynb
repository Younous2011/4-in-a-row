{
 "cells": [
  {
   "cell_type": "code",
   "execution_count": 1,
   "metadata": {},
   "outputs": [],
   "source": [
    "grill = [\n",
    "    [1, 1, 1, 1, 0, 0, 1],\n",
    "    [0, 0, 0, 0, 0, 0, 0],\n",
    "    [0, 0, 0, 0, 0, 0, 0],\n",
    "    [0, 0, 0, 0, 0, 0, 0],\n",
    "    [0, 0, 0, 0, 0, 0, 0],\n",
    "    [0, 0, 0, 0, 0, 0, 0]\n",
    "]"
   ]
  },
  {
   "cell_type": "code",
   "execution_count": 2,
   "metadata": {},
   "outputs": [],
   "source": [
    "id = 1"
   ]
  },
  {
   "cell_type": "code",
   "execution_count": 6,
   "metadata": {},
   "outputs": [
    {
     "name": "stdout",
     "output_type": "stream",
     "text": [
      "1\n",
      "2\n",
      "3\n",
      "4\n",
      "0\n",
      "0\n",
      "1\n"
     ]
    }
   ],
   "source": [
    "count_id = 0\n",
    "for i in range(7):\n",
    "    if grill[0][i] == id:\n",
    "        count_id += 1\n",
    "    else:\n",
    "        count_id = 0\n",
    "    print(count_id)"
   ]
  },
  {
   "cell_type": "code",
   "execution_count": 23,
   "metadata": {},
   "outputs": [],
   "source": [
    "i = 0"
   ]
  },
  {
   "cell_type": "code",
   "execution_count": 24,
   "metadata": {},
   "outputs": [
    {
     "name": "stdout",
     "output_type": "stream",
     "text": [
      "4\n"
     ]
    }
   ],
   "source": [
    "while i < 7 and count_id < 4:\n",
    "    if grill[0][i] == id:\n",
    "        count_id += 1\n",
    "    else:\n",
    "        count_id = 0\n",
    "\n",
    "print(count_id)"
   ]
  },
  {
   "cell_type": "code",
   "execution_count": 19,
   "metadata": {},
   "outputs": [],
   "source": []
  },
  {
   "cell_type": "code",
   "execution_count": 20,
   "metadata": {},
   "outputs": [],
   "source": []
  },
  {
   "cell_type": "code",
   "execution_count": 36,
   "metadata": {},
   "outputs": [
    {
     "name": "stdout",
     "output_type": "stream",
     "text": [
      "4\n"
     ]
    }
   ],
   "source": [
    "id = 1\n",
    "i = 0\n",
    "j = 0\n",
    "count_id = 0\n",
    "grill = [\n",
    "    [0, 0, 0, 0, 0, 0, 1],\n",
    "    [0, 0, 0, 0, 0, 0, 0],\n",
    "    [0, 0, 0, 0, 0, 0, 0],\n",
    "    [0, 0, 0, 0, 0, 0, 0],\n",
    "    [0, 0, 0, 0, 0, 0, 0],\n",
    "    [0, 0, 0, 1, 1, 1, 1]\n",
    "]\n",
    "while j < 6 and count_id < 4:\n",
    "    i = 0\n",
    "    while i < 7 and count_id < 4:\n",
    "        if grill[j][i] == id:\n",
    "            count_id += 1\n",
    "        else:\n",
    "            count_id = 0\n",
    "        \n",
    "        i+=1\n",
    "    j+=1\n",
    "\n",
    "print(count_id)"
   ]
  },
  {
   "cell_type": "code",
   "execution_count": 39,
   "metadata": {},
   "outputs": [
    {
     "name": "stdout",
     "output_type": "stream",
     "text": [
      "4\n"
     ]
    }
   ],
   "source": [
    "id = 1\n",
    "i = 0\n",
    "j = 0\n",
    "count_id = 0\n",
    "grill = [\n",
    "    [0, 0, 0, 0, 0, 0, 1],\n",
    "    [0, 0, 0, 0, 0, 0, 1],\n",
    "    [0, 0, 0, 0, 0, 0, 1],\n",
    "    [0, 0, 0, 0, 0, 0, 1],\n",
    "    [0, 0, 0, 0, 0, 0, 0],\n",
    "    [0, 0, 0, 0, 0, 0, 0]\n",
    "]\n",
    "while i < 7 and count_id < 4:\n",
    "    j = 0\n",
    "    while j < 6 and count_id < 4:\n",
    "        if grill[j][i] == id:\n",
    "            count_id += 1\n",
    "        else:\n",
    "            count_id = 0\n",
    "        \n",
    "        j+=1\n",
    "    i+=1\n",
    "\n",
    "print(count_id)"
   ]
  },
  {
   "cell_type": "code",
   "execution_count": 40,
   "metadata": {},
   "outputs": [
    {
     "name": "stdout",
     "output_type": "stream",
     "text": [
      "0\n"
     ]
    }
   ],
   "source": [
    "id = 1\n",
    "i = 0\n",
    "j = 0\n",
    "count_id = 0\n",
    "grill = [\n",
    "    [1, 0, 0, 0, 0, 0, 0],\n",
    "    [0, 1, 0, 0, 0, 0, 0],\n",
    "    [0, 0, 1, 0, 0, 0, 0],\n",
    "    [0, 0, 0, 1, 0, 0, 0],\n",
    "    [0, 0, 0, 0, 0, 0, 0],\n",
    "    [0, 0, 0, 0, 0, 0, 0]\n",
    "]\n",
    "while i < 7 and count_id < 4:\n",
    "    j = 0\n",
    "    while j < 6 and count_id < 4:\n",
    "        if grill[j][i] == id:\n",
    "            count_id += 1\n",
    "        else:\n",
    "            count_id = 0\n",
    "        \n",
    "        j+=1\n",
    "    i+=1\n",
    "\n",
    "print(count_id)"
   ]
  },
  {
   "cell_type": "code",
   "execution_count": 57,
   "metadata": {},
   "outputs": [
    {
     "name": "stdout",
     "output_type": "stream",
     "text": [
      "True\n"
     ]
    }
   ],
   "source": [
    "grill = [\n",
    "    [0, 0, 0, 1, 0, 0, 0],\n",
    "    [0, 0, 0, 0, 1, 0, 0],\n",
    "    [0, 0, 0, 0, 0, 1, 0],\n",
    "    [0, 0, 0, 0, 0, 0, 1],\n",
    "    [0, 0, 0, 0, 0, 0, 0],\n",
    "    [0, 0, 0, 0, 0, 0, 0]\n",
    "]\n",
    "j = 0\n",
    "four_in_a_row = False\n",
    "while j < 6 and four_in_a_row == False:\n",
    "    i = 0\n",
    "    while i < 7 and j + 3 < 6 and i + 3 < 7 and four_in_a_row == False:\n",
    "        k = 0\n",
    "        four_in_a_row = True\n",
    "        while k < 4 and four_in_a_row:\n",
    "            if grill[j + k][i + k] != id:\n",
    "                four_in_a_row = False\n",
    "            k+=1\n",
    "        i += 1\n",
    "    j += 1\n",
    "print(four_in_a_row)"
   ]
  },
  {
   "cell_type": "code",
   "execution_count": null,
   "metadata": {},
   "outputs": [],
   "source": []
  }
 ],
 "metadata": {
  "interpreter": {
   "hash": "7e1998ff7f8aa20ada591c520b972326324e5ea05489af9e422744c7c09f6dad"
  },
  "kernelspec": {
   "display_name": "Python 3.10.1 64-bit",
   "language": "python",
   "name": "python3"
  },
  "language_info": {
   "codemirror_mode": {
    "name": "ipython",
    "version": 3
   },
   "file_extension": ".py",
   "mimetype": "text/x-python",
   "name": "python",
   "nbconvert_exporter": "python",
   "pygments_lexer": "ipython3",
   "version": "3.10.1"
  },
  "orig_nbformat": 4
 },
 "nbformat": 4,
 "nbformat_minor": 2
}
